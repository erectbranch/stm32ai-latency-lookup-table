{
 "cells": [
  {
   "cell_type": "markdown",
   "metadata": {},
   "source": [
    "# Model Benchmarking using the STM32Cube.AI Developer Cloud Service"
   ]
  },
  {
   "cell_type": "code",
   "execution_count": 12,
   "metadata": {},
   "outputs": [],
   "source": [
    "####################### Please set your model and target board to benchmark. #######################\n",
    "target_board = 'STM32F769I-DISCO'                                   # you can check available cloud boards in the paragraph '2. Check the availability of the MCU board' mentioned below.\n",
    "benchmark_model_name_list = ['mcunet-512kb-2mb_imagenet.tflite']    # model file location: ./.models/{benchmark_model_name}"
   ]
  },
  {
   "cell_type": "markdown",
   "metadata": {},
   "source": [
    "---"
   ]
  },
  {
   "cell_type": "code",
   "execution_count": 15,
   "metadata": {},
   "outputs": [],
   "source": [
    "import getpass\n",
    "import os\n",
    "\n",
    "from stm32_api.file import FileManager\n",
    "from stm32_api.benchmark import BenchmarkManager\n",
    "\n",
    "from stm32_api.utils import CliParameters\n",
    "from stm32_api.analyze import analyze_footprints, analyze_inference_time, get_inference_time"
   ]
  },
  {
   "cell_type": "code",
   "execution_count": 2,
   "metadata": {},
   "outputs": [],
   "source": [
    "result_dl_dir = \"./.benchmark/\"\n",
    "benchmark_model_dir = \"./.models/\""
   ]
  },
  {
   "cell_type": "markdown",
   "metadata": {},
   "source": [
    "---\n",
    "\n",
    "## 1. Login to the STM32Cube.AI Developer Cloud Service"
   ]
  },
  {
   "cell_type": "code",
   "execution_count": 3,
   "metadata": {},
   "outputs": [],
   "source": [
    "stm32_email = input(\"Enter your STM32 Account: \")"
   ]
  },
  {
   "cell_type": "code",
   "execution_count": null,
   "metadata": {},
   "outputs": [],
   "source": [
    "print(\"Enter your STM32 Password: \")\n",
    "stm32_password = getpass.getpass()"
   ]
  },
  {
   "cell_type": "code",
   "execution_count": 5,
   "metadata": {},
   "outputs": [],
   "source": [
    "try:\n",
    "    file_manager = FileManager(stm32_email, stm32_password)\n",
    "    print('STM32Cube.AI Dev Cloud Login success')\n",
    "except Exception as e:\n",
    "    print(\"Error: please verify your credentials\")"
   ]
  },
  {
   "cell_type": "markdown",
   "metadata": {},
   "source": [
    "---\n",
    "\n",
    "## 2. Check the availability of the MCU board in the STM32Cube.AI Developer Cloud Service"
   ]
  },
  {
   "cell_type": "code",
   "execution_count": 7,
   "metadata": {},
   "outputs": [],
   "source": [
    "benchmark_manager = BenchmarkManager(\n",
    "    net = None,\n",
    "    file_manager = file_manager,\n",
    "    path = result_dl_dir,\n",
    "    stm_version = \"1.0.0\",\n",
    ")"
   ]
  },
  {
   "cell_type": "code",
   "execution_count": null,
   "metadata": {},
   "outputs": [],
   "source": [
    "boards = benchmark_manager.get_benchmark_boards()\n",
    "board_names = [boards[i].name for i in range(len(boards))]\n",
    "print(\"Available boards:\", board_names)\n",
    "\n",
    "assert target_board in board_names, f'target MCU board {board_name} is not available now'"
   ]
  },
  {
   "cell_type": "markdown",
   "metadata": {},
   "source": [
    "---\n",
    "\n",
    "## 3. Upload the model and perform the benchmarking"
   ]
  },
  {
   "cell_type": "code",
   "execution_count": 13,
   "metadata": {},
   "outputs": [],
   "source": [
    "timeout = 1200\n",
    "analysis = False\n",
    "\n",
    "benchmark_options = {               # CliParameters (stm32_api/utils/types.py)\n",
    "    \"optimization\": \"balanced\",\n",
    "    \"allocateInputs\": True,\n",
    "    \"allocateOutputs\": True,\n",
    "    \"noOnnxIoTranspose\": False,\n",
    "    \"fromModel\": \"user\",\n",
    "}"
   ]
  },
  {
   "cell_type": "code",
   "execution_count": null,
   "metadata": {},
   "outputs": [],
   "source": [
    "assert isinstance(benchmark_model_name_list, list), 'benchmark_model_name_list should be a list'\n",
    "\n",
    "latency_dict = {}\n",
    "\n",
    "for model_name in benchmark_model_name_list:\n",
    "    model_file_path = os.path.join(benchmark_model_dir, model_name)\n",
    "\n",
    "    if not os.path.isfile(model_file_path):\n",
    "        print(f\"Please check the model file exists: {model_file_path}\")\n",
    "        continue\n",
    "\n",
    "    ################## 1. Upload the model to the Cloud ##################\n",
    "    print(f\"Uploading the '{model_name}' model file to the STM32 Cloud\")\n",
    "    file_manager.upload_model(file_path=model_file_path, model_name=model_name)\n",
    "    benchmark_manager.model_name = model_name\n",
    "\n",
    "\n",
    "    ################## 2. Benchmark the model on the Cloud ##################\n",
    "    print(f'Start benchmarking the model: {model_name}')\n",
    "    try:\n",
    "        result = benchmark_manager.benchmark(\n",
    "            CliParameters(model=model_name, **benchmark_options), \n",
    "            target_board,\n",
    "            timeout=timeout,\n",
    "            analysis=analysis,\n",
    "        )\n",
    "        if analysis:\n",
    "            latency_dict[model_name] = get_inference_time(report=result)\n",
    "    except Exception as e:\n",
    "        print(f\"Error: {e}\")\n",
    "\n",
    "\n",
    "    ################## 3. Download the benchmark result on the Cloud ##################\n",
    "    benchmark_manager.get_result_given_id(benchmark_manager.bid_list[-1])\n",
    "\n",
    "\n",
    "    ################## 4. Delete the result and file on the Cloud ##################\n",
    "    benchmark_manager.delete_result_given_id(benchmark_manager.bid_list[-1])\n",
    "    file_manager.delete_model(model_name)\n",
    "\n",
    "if analysis:\n",
    "    print(f\"latency_dict: {latency_dict}\")"
   ]
  }
 ],
 "metadata": {
  "kernelspec": {
   "display_name": "Python 3.9 (tensorflow)",
   "language": "python",
   "name": "tensorflow"
  }
 },
 "nbformat": 4,
 "nbformat_minor": 2
}
